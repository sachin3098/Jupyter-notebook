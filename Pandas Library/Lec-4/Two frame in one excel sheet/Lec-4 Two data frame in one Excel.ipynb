{
 "cells": [
  {
   "cell_type": "code",
   "execution_count": 2,
   "metadata": {},
   "outputs": [],
   "source": [
    "import pandas as pd"
   ]
  },
  {
   "cell_type": "code",
   "execution_count": 3,
   "metadata": {},
   "outputs": [],
   "source": [
    "df_stock_data = pd.DataFrame({\n",
    "    'tickers': ['GOOGL', 'WMT', 'MSFT'],\n",
    "    'price': [845, 65, 64 ],\n",
    "    'pe': [30.37, 14.26, 30.97],\n",
    "    'eps': [27.82, 4.61, 2.12]\n",
    "})\n",
    "\n",
    "df_Weather_book =  pd.DataFrame({\n",
    "    'day': ['1/1/2017','1/2/2017','1/3/2017'],\n",
    "    'temperature': [32,35,28],\n",
    "    'event': ['Rain', 'Sunny', 'Snow']\n",
    "})\n"
   ]
  },
  {
   "cell_type": "markdown",
   "metadata": {},
   "source": [
    "### writing to Excel sheet"
   ]
  },
  {
   "cell_type": "code",
   "execution_count": 4,
   "metadata": {},
   "outputs": [],
   "source": [
    "with pd.ExcelWriter('stocks_weather.xlsx') as writer:\n",
    "    df_stock_data.to_excel(writer, sheet_name=\"stocks\")\n",
    "    df_Weather_book.to_excel(writer, sheet_name=\"weather\")"
   ]
  },
  {
   "cell_type": "code",
   "execution_count": null,
   "metadata": {},
   "outputs": [],
   "source": []
  },
  {
   "cell_type": "code",
   "execution_count": null,
   "metadata": {},
   "outputs": [],
   "source": []
  }
 ],
 "metadata": {
  "kernelspec": {
   "display_name": "Python 3",
   "language": "python",
   "name": "python3"
  },
  "language_info": {
   "codemirror_mode": {
    "name": "ipython",
    "version": 3
   },
   "file_extension": ".py",
   "mimetype": "text/x-python",
   "name": "python",
   "nbconvert_exporter": "python",
   "pygments_lexer": "ipython3",
   "version": "3.8.5"
  }
 },
 "nbformat": 4,
 "nbformat_minor": 4
}
